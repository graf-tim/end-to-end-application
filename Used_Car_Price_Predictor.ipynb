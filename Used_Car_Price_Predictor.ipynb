{
 "cells": [
  {
   "cell_type": "markdown",
   "id": "2603d5fb",
   "metadata": {},
   "source": [
    "# Used Car Price Prediction"
   ]
  },
  {
   "cell_type": "markdown",
   "id": "2a50ae3c",
   "metadata": {},
   "source": [
    "## Import Data"
   ]
  },
  {
   "cell_type": "code",
   "execution_count": 8,
   "id": "9308fa7a",
   "metadata": {},
   "outputs": [],
   "source": [
    "# Libraries\n",
    "import numpy as np\n",
    "import pandas as pd\n",
    "from sklearn.ensemble import RandomForestRegressor\n",
    "from sklearn.model_selection import cross_val_score\n",
    "from sklearn.model_selection import train_test_split\n",
    "from sklearn.metrics import root_mean_squared_error\n",
    "from sklearn.linear_model import LinearRegression\n",
    "from sklearn.compose import ColumnTransformer\n",
    "from sklearn.preprocessing import OneHotEncoder\n",
    "from sklearn.metrics import mean_squared_error\n",
    "from sklearn.pipeline import Pipeline\n",
    "\n",
    "# Schritt 2: Daten einlesen\n",
    "df_sales = pd.read_csv(\"vehicles.csv\", nrows=10000)\n",
    "df_specs = pd.read_csv(\"data.csv\")"
   ]
  },
  {
   "cell_type": "markdown",
   "id": "92c6d349",
   "metadata": {},
   "source": [
    "## Merge"
   ]
  },
  {
   "cell_type": "code",
   "execution_count": 9,
   "id": "99ce147f",
   "metadata": {},
   "outputs": [
    {
     "name": "stdout",
     "output_type": "stream",
     "text": [
      "Vor dem Merge: (10000, 26)\n",
      "Nach dem Merge: (10000, 27)\n",
      "  manufacturer model  Engine HP\n",
      "0          NaN   NaN        NaN\n",
      "1          NaN   NaN        NaN\n",
      "2          NaN   NaN        NaN\n",
      "3          NaN   NaN        NaN\n",
      "4          NaN   NaN        NaN\n",
      "Anzahl Autos mit Engine HP: 974\n"
     ]
    }
   ],
   "source": [
    "df_specs  = pd.read_csv(\"data.csv\")\n",
    "df_specs.rename(columns={'Make': 'manufacturer', 'Model' : 'model', 'Year': 'year'}, inplace=True)\n",
    "\n",
    "df_sales['manufacturer'] = df_sales['manufacturer'].str.lower().str.strip()\n",
    "df_sales['model'] = df_sales['model'].str.lower().str.strip()\n",
    "\n",
    "df_specs['manufacturer'] = df_specs['manufacturer'].str.lower().str.strip()\n",
    "df_specs['model'] = df_specs['model'].str.lower().str.strip()\n",
    "\n",
    "df_specs_avg = df_specs.groupby(['manufacturer', 'model', 'year'], as_index=False)['Engine HP'].mean()\n",
    "\n",
    "df_merged = df_sales.merge(\n",
    "    df_specs_avg,\n",
    "    on=['manufacturer', 'model', 'year'],\n",
    "    how='left'\n",
    ")\n",
    "\n",
    "print(\"Vor dem Merge:\", df_sales.shape)\n",
    "print(\"Nach dem Merge:\", df_merged.shape)\n",
    "print(df_merged[['manufacturer', 'model', 'Engine HP']].head())\n",
    "\n",
    "print(\"Anzahl Autos mit Engine HP:\", df_merged['Engine HP'].notna().sum())\n",
    "df_merged.to_csv(\"car_data_merged.csv\", index=False)"
   ]
  },
  {
   "cell_type": "code",
   "execution_count": 10,
   "id": "2274f919",
   "metadata": {},
   "outputs": [
    {
     "name": "stdout",
     "output_type": "stream",
     "text": [
      "Index(['id', 'url', 'region', 'region_url', 'price', 'year', 'manufacturer',\n",
      "       'model', 'condition', 'cylinders', 'fuel', 'odometer', 'title_status',\n",
      "       'transmission', 'VIN', 'drive', 'size', 'type', 'paint_color',\n",
      "       'image_url', 'description', 'county', 'state', 'lat', 'long',\n",
      "       'posting_date', 'Engine HP'],\n",
      "      dtype='object')\n"
     ]
    }
   ],
   "source": [
    "print(df_merged.columns)\n",
    "\n",
    "# Relevante Spalten\n",
    "features = ['region', 'year', 'manufacturer', 'model', 'condition', 'cylinders', 'fuel', 'odometer', 'title_status', 'transmission', 'drive', 'type', 'paint_color', 'state']\n",
    "target = 'price'\n",
    "\n",
    "# NaNs entfernen (optional auch imputen möglich)\n",
    "df_merged = df_merged.dropna(subset=features + [target])"
   ]
  },
  {
   "cell_type": "markdown",
   "id": "ab59b80d",
   "metadata": {},
   "source": [
    "## Model Training vor Feature Engineering"
   ]
  },
  {
   "cell_type": "code",
   "execution_count": 11,
   "id": "34b2edbc",
   "metadata": {},
   "outputs": [
    {
     "name": "stdout",
     "output_type": "stream",
     "text": [
      "----- Linear Regression -----\n",
      "Train score:  1.0\n",
      "Test score:  -6.949674922221538\n",
      "Train RMSE:  6.246128113533709e-07\n",
      "Test RMSE:  32399.624772732954\n",
      "\n",
      "----- Random Forest -----\n",
      "Train score:  0.9653860118141097\n",
      "Test score:  0.8129881563230255\n",
      "Train RMSE:  2127.3884172564076\n",
      "Test RMSE:  4969.353038970298\n"
     ]
    }
   ],
   "source": [
    "# Bibliotheken importieren\n",
    "import pandas as pd\n",
    "import numpy as np\n",
    "from sklearn.model_selection import train_test_split\n",
    "from sklearn.linear_model import LinearRegression\n",
    "from sklearn.ensemble import RandomForestRegressor\n",
    "from sklearn.metrics import root_mean_squared_error\n",
    "\n",
    "# Daten einlesen\n",
    "df = df_merged\n",
    "\n",
    "# Nur Datensätze mit vorhandenen Zielwerten & Features verwenden\n",
    "df = df[['price', 'region', 'year', 'manufacturer', 'model', 'condition', 'cylinders', \n",
    "        'fuel', 'odometer', 'title_status', 'transmission', 'drive', 'type', \n",
    "        'paint_color', 'state', 'Engine HP']].dropna()\n",
    "\n",
    "# Kategorische Variablen in numerische umwandeln\n",
    "df_encoded = pd.get_dummies(df, columns=[\n",
    "    'region', 'manufacturer', 'model', 'condition', 'cylinders', 'fuel', 'title_status', \n",
    "    'transmission', 'drive', 'type', 'paint_color', 'state'\n",
    "], drop_first=True)\n",
    "\n",
    "# Zielvariable: Auto-Preis\n",
    "y = df_encoded['price']\n",
    "\n",
    "# Feature-Matrix: alle außer Preis\n",
    "X = df_encoded.drop(columns=['price'])\n",
    "\n",
    "# Daten aufteilen in Training und Test\n",
    "X_train, X_test, y_train, y_test = train_test_split(\n",
    "    X, y, test_size=0.2, random_state=42\n",
    ")\n",
    "\n",
    "# --- Lineare Regression ---\n",
    "linear_model = LinearRegression()\n",
    "linear_model.fit(X_train, y_train)\n",
    "\n",
    "# --- Random Forest ---\n",
    "random_forest_model = RandomForestRegressor(n_estimators=100, random_state=42)\n",
    "random_forest_model.fit(X_train, y_train)\n",
    "\n",
    "# Ergebnisse ausgeben\n",
    "print(\"----- Linear Regression -----\")\n",
    "print(\"Train score: \", linear_model.score(X_train, y_train))\n",
    "print(\"Test score: \", linear_model.score(X_test, y_test))\n",
    "print(\"Train RMSE: \", root_mean_squared_error(y_train, linear_model.predict(X_train)))\n",
    "print(\"Test RMSE: \", root_mean_squared_error(y_test, linear_model.predict(X_test)))\n",
    "\n",
    "print(\"\\n----- Random Forest -----\")\n",
    "print(\"Train score: \", random_forest_model.score(X_train, y_train))\n",
    "print(\"Test score: \", random_forest_model.score(X_test, y_test))\n",
    "print(\"Train RMSE: \", root_mean_squared_error(y_train, random_forest_model.predict(X_train)))\n",
    "print(\"Test RMSE: \", root_mean_squared_error(y_test, random_forest_model.predict(X_test)))"
   ]
  },
  {
   "cell_type": "markdown",
   "id": "d404e45a",
   "metadata": {},
   "source": [
    "Lineare Regression: Overfitting. Zu viele kategorische Dummy Variablen\n",
    "\n",
    "Random Forest:\n",
    "gute Performance, deutlich robuster"
   ]
  },
  {
   "cell_type": "markdown",
   "id": "22bb055b",
   "metadata": {},
   "source": [
    "## Feature Engineering"
   ]
  },
  {
   "cell_type": "code",
   "execution_count": 12,
   "id": "e1deb73d",
   "metadata": {},
   "outputs": [],
   "source": [
    "import pandas as pd\n",
    "\n",
    "# Kopie des DataFrames zur Sicherheit\n",
    "df = df_merged.copy()\n",
    "\n",
    "# Nur relevante Spalten auswählen und fehlende Werte entfernen\n",
    "df = df[['price', 'year', 'odometer', 'condition', 'transmission', 'drive', 'type', \n",
    "         'Engine HP', 'manufacturer', 'model']].dropna()\n",
    "\n",
    "# Feature Engineering: Fahrzeugalter\n",
    "df['car_age'] = 2025 - df['year']\n",
    "\n",
    "# Zustand binär kodieren: guter Zustand = 1\n",
    "df['condition_good'] = df['condition'].isin(['good', 'like new', 'excellent']).astype(int)\n",
    "\n",
    "# Kategorische Variablen in Dummy-Variablen umwandeln\n",
    "df_encoded = pd.get_dummies(df, columns=[\n",
    "    'transmission', 'drive', 'type', 'manufacturer', 'model'\n",
    "], drop_first=True)"
   ]
  },
  {
   "cell_type": "markdown",
   "id": "ede77a83",
   "metadata": {},
   "source": [
    "## Model Training nach Feature Engineering"
   ]
  },
  {
   "cell_type": "code",
   "execution_count": 13,
   "id": "82989ac6",
   "metadata": {},
   "outputs": [
    {
     "name": "stdout",
     "output_type": "stream",
     "text": [
      "----- Linear Regression -----\n",
      "Train score:  0.9852874296846762\n",
      "Test score:  0.5860603263310293\n",
      "Train RMSE:  1386.964181563441\n",
      "Test RMSE:  7393.223275823624\n",
      "\n",
      "----- Random Forest -----\n",
      "Train score:  0.9645822693179631\n",
      "Test score:  0.7721361542807752\n",
      "Train RMSE:  2151.945832920154\n",
      "Test RMSE:  5485.333119611485\n"
     ]
    }
   ],
   "source": [
    "# Zielvariable: Preis\n",
    "y = df_encoded['price']\n",
    "\n",
    "# Feature-Matrix: alle außer Preis und Originalspalten, die durch neue ersetzt wurden\n",
    "X = df_encoded.drop(columns=['price', 'condition', 'year'])\n",
    "\n",
    "# Train-Test-Split\n",
    "X_train, X_test, y_train, y_test = train_test_split(X, y, test_size=0.2, random_state=42)\n",
    "\n",
    "# Lineare Regression\n",
    "linear_model = LinearRegression()\n",
    "linear_model.fit(X_train, y_train)\n",
    "\n",
    "# Random Forest\n",
    "random_forest_model = RandomForestRegressor(n_estimators=100, random_state=42)\n",
    "random_forest_model.fit(X_train, y_train)\n",
    "\n",
    "# Ergebnisse ausgeben\n",
    "print(\"----- Linear Regression -----\")\n",
    "print(\"Train score: \", linear_model.score(X_train, y_train))\n",
    "print(\"Test score: \", linear_model.score(X_test, y_test))\n",
    "print(\"Train RMSE: \", root_mean_squared_error(y_train, linear_model.predict(X_train)))\n",
    "print(\"Test RMSE: \", root_mean_squared_error(y_test, linear_model.predict(X_test)))\n",
    "\n",
    "print(\"\\n----- Random Forest -----\")\n",
    "print(\"Train score: \", random_forest_model.score(X_train, y_train))\n",
    "print(\"Test score: \", random_forest_model.score(X_test, y_test))\n",
    "print(\"Train RMSE: \", root_mean_squared_error(y_train, random_forest_model.predict(X_train)))\n",
    "print(\"Test RMSE: \", root_mean_squared_error(y_test, random_forest_model.predict(X_test)))"
   ]
  },
  {
   "cell_type": "markdown",
   "id": "9165817a",
   "metadata": {},
   "source": [
    "| Metrik          | Lineare Regression | Random Forest |\n",
    "| --------------- | ------------------ | ------------- |\n",
    "| **Train Score** | 0.985              | 0.965         |\n",
    "| **Test Score**  | 0.586              | **0.772**    |\n",
    "| **Train RMSE**  | 1 387              | 2 152         |\n",
    "| **Test RMSE**   | 7 393              | **5 485**    |\n",
    "\n",
    "Interpretation\n",
    "Train Score (R²): Beide Modelle passen sich gut an die Trainingsdaten an, wobei LR minimal besser ist. Aber Achtung: Ein zu hoher Train Score kann auch auf Overfitting hinweisen.\n",
    "\n",
    "Test Score (R²): Das Random Forest Modell erklärt 77 % der Varianz im Testdatensatz, das lineare Modell nur 58 %.\n",
    "\n",
    "Test RMSE: Die durchschnittliche Fehlerabweichung bei der Preisvorhersage ist beim Random Forest um fast 2 000 $ niedriger – ein großer Unterschied!\n",
    "\n",
    "Fazit:\n",
    "Random Forest ist klar das bessere Modell für deine Preisvorhersage.\n",
    "Es verallgemeinert besser auf neue Daten und liefert genauere Vorhersagen. Du solltest dieses Modell für deine weitere Arbeit (z. B. App mit Gradio) verwenden.\n"
   ]
  },
  {
   "cell_type": "code",
   "execution_count": 14,
   "id": "c671207b",
   "metadata": {},
   "outputs": [
    {
     "data": {
      "text/plain": [
       "['car_model_features.pkl']"
      ]
     },
     "execution_count": 14,
     "metadata": {},
     "output_type": "execute_result"
    }
   ],
   "source": [
    "import joblib\n",
    "\n",
    "# Modell speichern\n",
    "joblib.dump(random_forest_model, \"car_price_model.pkl\")\n",
    "\n",
    "# Auch Trainings-Feature-Namen speichern (für spätere Reproduktion)\n",
    "joblib.dump(X_train.columns.tolist(), \"car_model_features.pkl\")"
   ]
  },
  {
   "cell_type": "markdown",
   "id": "714534a7",
   "metadata": {},
   "source": [
    "## Feature Importance Diagramm"
   ]
  },
  {
   "cell_type": "code",
   "execution_count": 15,
   "id": "9a59fc5b",
   "metadata": {},
   "outputs": [
    {
     "name": "stderr",
     "output_type": "stream",
     "text": [
      "/tmp/ipykernel_2268/2752520354.py:20: FutureWarning: \n",
      "\n",
      "Passing `palette` without assigning `hue` is deprecated and will be removed in v0.14.0. Assign the `y` variable to `hue` and set `legend=False` for the same effect.\n",
      "\n",
      "  sns.barplot(data=top_features, x='Importance', y='Feature', palette='viridis')\n"
     ]
    },
    {
     "data": {
      "image/png": "[encoded data removed]",
      "text/plain": [
       "<Figure size 1000x600 with 1 Axes>"
      ]
     },
     "metadata": {},
     "output_type": "display_data"
    }
   ],
   "source": [
    "import matplotlib.pyplot as plt\n",
    "import seaborn as sns\n",
    "\n",
    "# Feature Importances aus dem trainierten Random Forest Modell\n",
    "importances = random_forest_model.feature_importances_\n",
    "feature_names = X_train.columns\n",
    "\n",
    "# In DataFrame für bessere Darstellung\n",
    "feature_importance_df = pd.DataFrame({\n",
    "    'Feature': feature_names,\n",
    "    'Importance': importances\n",
    "}).sort_values(by='Importance', ascending=False)\n",
    "\n",
    "# Top 20 Features anzeigen (optional kannst du die Zahl anpassen)\n",
    "top_n = 20\n",
    "top_features = feature_importance_df.head(top_n)\n",
    "\n",
    "# Plot\n",
    "plt.figure(figsize=(10, 6))\n",
    "sns.barplot(data=top_features, x='Importance', y='Feature', palette='viridis')\n",
    "plt.title(f'Top {top_n} Feature Importances (Random Forest)')\n",
    "plt.xlabel('Wichtigkeit')\n",
    "plt.ylabel('Feature')\n",
    "plt.tight_layout()\n",
    "plt.show()\n"
   ]
  },
  {
   "cell_type": "markdown",
   "id": "f273cd47",
   "metadata": {},
   "source": [
    "## Build Website"
   ]
  },
  {
   "cell_type": "code",
   "execution_count": null,
   "id": "1fc0f98d",
   "metadata": {},
   "outputs": [
    {
     "name": "stderr",
     "output_type": "stream",
     "text": [
      "/usr/local/python/3.12.1/lib/python3.12/site-packages/tqdm/auto.py:21: TqdmWarning: IProgress not found. Please update jupyter and ipywidgets. See https://ipywidgets.readthedocs.io/en/stable/user_install.html\n",
      "  from .autonotebook import tqdm as notebook_tqdm\n"
     ]
    },
    {
     "name": "stdout",
     "output_type": "stream",
     "text": [
      "* Running on local URL:  http://127.0.0.1:7860\n",
      "* To create a public link, set `share=True` in `launch()`.\n"
     ]
    },
    {
     "data": {
      "text/html": [
       "<div><iframe src=\"http://127.0.0.1:7860/\" width=\"100%\" height=\"500\" allow=\"autoplay; camera; microphone; clipboard-read; clipboard-write;\" frameborder=\"0\" allowfullscreen></iframe></div>"
      ],
      "text/plain": [
       "<IPython.core.display.HTML object>"
      ]
     },
     "metadata": {},
     "output_type": "display_data"
    },
    {
     "data": {
      "text/plain": []
     },
     "execution_count": 17,
     "metadata": {},
     "output_type": "execute_result"
    },
    {
     "name": "stderr",
     "output_type": "stream",
     "text": [
      "/tmp/ipykernel_2268/2464500838.py:44: PerformanceWarning: DataFrame is highly fragmented.  This is usually the result of calling `frame.insert` many times, which has poor performance.  Consider joining all columns at once using pd.concat(axis=1) instead. To get a de-fragmented frame, use `newframe = frame.copy()`\n",
      "  input_encoded[col] = 0\n",
      "/tmp/ipykernel_2268/2464500838.py:44: PerformanceWarning: DataFrame is highly fragmented.  This is usually the result of calling `frame.insert` many times, which has poor performance.  Consider joining all columns at once using pd.concat(axis=1) instead. To get a de-fragmented frame, use `newframe = frame.copy()`\n",
      "  input_encoded[col] = 0\n",
      "/tmp/ipykernel_2268/2464500838.py:44: PerformanceWarning: DataFrame is highly fragmented.  This is usually the result of calling `frame.insert` many times, which has poor performance.  Consider joining all columns at once using pd.concat(axis=1) instead. To get a de-fragmented frame, use `newframe = frame.copy()`\n",
      "  input_encoded[col] = 0\n",
      "/tmp/ipykernel_2268/2464500838.py:44: PerformanceWarning: DataFrame is highly fragmented.  This is usually the result of calling `frame.insert` many times, which has poor performance.  Consider joining all columns at once using pd.concat(axis=1) instead. To get a de-fragmented frame, use `newframe = frame.copy()`\n",
      "  input_encoded[col] = 0\n",
      "/tmp/ipykernel_2268/2464500838.py:44: PerformanceWarning: DataFrame is highly fragmented.  This is usually the result of calling `frame.insert` many times, which has poor performance.  Consider joining all columns at once using pd.concat(axis=1) instead. To get a de-fragmented frame, use `newframe = frame.copy()`\n",
      "  input_encoded[col] = 0\n",
      "/tmp/ipykernel_2268/2464500838.py:44: PerformanceWarning: DataFrame is highly fragmented.  This is usually the result of calling `frame.insert` many times, which has poor performance.  Consider joining all columns at once using pd.concat(axis=1) instead. To get a de-fragmented frame, use `newframe = frame.copy()`\n",
      "  input_encoded[col] = 0\n",
      "/tmp/ipykernel_2268/2464500838.py:44: PerformanceWarning: DataFrame is highly fragmented.  This is usually the result of calling `frame.insert` many times, which has poor performance.  Consider joining all columns at once using pd.concat(axis=1) instead. To get a de-fragmented frame, use `newframe = frame.copy()`\n",
      "  input_encoded[col] = 0\n",
      "/tmp/ipykernel_2268/2464500838.py:44: PerformanceWarning: DataFrame is highly fragmented.  This is usually the result of calling `frame.insert` many times, which has poor performance.  Consider joining all columns at once using pd.concat(axis=1) instead. To get a de-fragmented frame, use `newframe = frame.copy()`\n",
      "  input_encoded[col] = 0\n",
      "/tmp/ipykernel_2268/2464500838.py:44: PerformanceWarning: DataFrame is highly fragmented.  This is usually the result of calling `frame.insert` many times, which has poor performance.  Consider joining all columns at once using pd.concat(axis=1) instead. To get a de-fragmented frame, use `newframe = frame.copy()`\n",
      "  input_encoded[col] = 0\n",
      "/tmp/ipykernel_2268/2464500838.py:44: PerformanceWarning: DataFrame is highly fragmented.  This is usually the result of calling `frame.insert` many times, which has poor performance.  Consider joining all columns at once using pd.concat(axis=1) instead. To get a de-fragmented frame, use `newframe = frame.copy()`\n",
      "  input_encoded[col] = 0\n",
      "/tmp/ipykernel_2268/2464500838.py:44: PerformanceWarning: DataFrame is highly fragmented.  This is usually the result of calling `frame.insert` many times, which has poor performance.  Consider joining all columns at once using pd.concat(axis=1) instead. To get a de-fragmented frame, use `newframe = frame.copy()`\n",
      "  input_encoded[col] = 0\n",
      "/tmp/ipykernel_2268/2464500838.py:44: PerformanceWarning: DataFrame is highly fragmented.  This is usually the result of calling `frame.insert` many times, which has poor performance.  Consider joining all columns at once using pd.concat(axis=1) instead. To get a de-fragmented frame, use `newframe = frame.copy()`\n",
      "  input_encoded[col] = 0\n",
      "/tmp/ipykernel_2268/2464500838.py:44: PerformanceWarning: DataFrame is highly fragmented.  This is usually the result of calling `frame.insert` many times, which has poor performance.  Consider joining all columns at once using pd.concat(axis=1) instead. To get a de-fragmented frame, use `newframe = frame.copy()`\n",
      "  input_encoded[col] = 0\n",
      "/tmp/ipykernel_2268/2464500838.py:44: PerformanceWarning: DataFrame is highly fragmented.  This is usually the result of calling `frame.insert` many times, which has poor performance.  Consider joining all columns at once using pd.concat(axis=1) instead. To get a de-fragmented frame, use `newframe = frame.copy()`\n",
      "  input_encoded[col] = 0\n",
      "/tmp/ipykernel_2268/2464500838.py:44: PerformanceWarning: DataFrame is highly fragmented.  This is usually the result of calling `frame.insert` many times, which has poor performance.  Consider joining all columns at once using pd.concat(axis=1) instead. To get a de-fragmented frame, use `newframe = frame.copy()`\n",
      "  input_encoded[col] = 0\n",
      "/tmp/ipykernel_2268/2464500838.py:44: PerformanceWarning: DataFrame is highly fragmented.  This is usually the result of calling `frame.insert` many times, which has poor performance.  Consider joining all columns at once using pd.concat(axis=1) instead. To get a de-fragmented frame, use `newframe = frame.copy()`\n",
      "  input_encoded[col] = 0\n",
      "/tmp/ipykernel_2268/2464500838.py:44: PerformanceWarning: DataFrame is highly fragmented.  This is usually the result of calling `frame.insert` many times, which has poor performance.  Consider joining all columns at once using pd.concat(axis=1) instead. To get a de-fragmented frame, use `newframe = frame.copy()`\n",
      "  input_encoded[col] = 0\n",
      "/tmp/ipykernel_2268/2464500838.py:44: PerformanceWarning: DataFrame is highly fragmented.  This is usually the result of calling `frame.insert` many times, which has poor performance.  Consider joining all columns at once using pd.concat(axis=1) instead. To get a de-fragmented frame, use `newframe = frame.copy()`\n",
      "  input_encoded[col] = 0\n"
     ]
    }
   ],
   "source": [
    "import gradio as gr\n",
    "import pandas as pd\n",
    "import numpy as np\n",
    "import joblib\n",
    "\n",
    "# Modell und Featureliste laden\n",
    "model = joblib.load(\"car_price_model.pkl\")\n",
    "feature_names = joblib.load(\"car_model_features.pkl\")\n",
    "\n",
    "# Ursprüngliche Daten für Dropdown-Optionen laden\n",
    "df = pd.read_csv(\"car_data_merged.csv\")\n",
    "df = df[['year', 'odometer', 'Engine HP', 'manufacturer', 'model', 'transmission', 'type']].dropna()\n",
    "\n",
    "# Kategorien vorbereiten\n",
    "manufacturers = sorted(df['manufacturer'].unique())\n",
    "models = sorted(df['model'].unique())\n",
    "transmissions = sorted(df['transmission'].unique())\n",
    "types = sorted(df['type'].unique())\n",
    "\n",
    "# Vorhersagefunktion\n",
    "def predict_price(year, odometer, engine_hp, manufacturer, model_name, transmission, car_type):\n",
    "    # Eingabedaten\n",
    "    input_dict = {\n",
    "        'year': [year],\n",
    "        'odometer': [odometer],\n",
    "        'Engine HP': [engine_hp],\n",
    "        'manufacturer': [manufacturer],\n",
    "        'model': [model_name],\n",
    "        'transmission': [transmission],\n",
    "        'type': [car_type]\n",
    "    }\n",
    "    input_df = pd.DataFrame(input_dict)\n",
    "\n",
    "    # Feature Engineering\n",
    "    input_df['car_age'] = 2025 - input_df['year']\n",
    "    input_df = input_df.drop(columns=['year'])\n",
    "\n",
    "    # Dummy-Codierung\n",
    "    input_encoded = pd.get_dummies(input_df)\n",
    "\n",
    "    # Fehlende Spalten auffüllen\n",
    "    for col in feature_names:\n",
    "        if col not in input_encoded.columns:\n",
    "            input_encoded[col] = 0\n",
    "\n",
    "    # Reihenfolge sicherstellen\n",
    "    input_final = input_encoded[feature_names]\n",
    "\n",
    "    # Vorhersage\n",
    "    prediction = model.predict(input_final)[0]\n",
    "    return f\"{int(prediction):,} USD\"\n",
    "\n",
    "# Gradio Interface\n",
    "demo = gr.Interface(\n",
    "    fn=predict_price,\n",
    "    inputs=[\n",
    "        gr.Number(label=\"Baujahr\", value=2015),\n",
    "        gr.Number(label=\"Kilometerstand (odometer)\", value=80000),\n",
    "        gr.Number(label=\"Motorleistung (Engine HP)\", value=180),\n",
    "        gr.Dropdown(choices=manufacturers, label=\"Hersteller\"),\n",
    "        gr.Dropdown(choices=models, label=\"Modell\"),\n",
    "        gr.Dropdown(choices=transmissions, label=\"Getriebeart\"),\n",
    "        gr.Dropdown(choices=types, label=\"Fahrzeugtyp\"),\n",
    "    ],\n",
    "    outputs=gr.Text(label=\"Vorhergesagter Preis\"),\n",
    "    title=\"Auto-Preis-Vorhersage\",\n",
    "    description=\"Diese App schätzt den Preis eines Autos basierend auf technischen Merkmalen und Modellinformationen mit einem Random Forest Modell.\"\n",
    ")\n",
    "\n",
    "demo.launch()\n"
   ]
  }
 ],
 "metadata": {
  "kernelspec": {
   "display_name": "Python 3",
   "language": "python",
   "name": "python3"
  },
  "language_info": {
   "codemirror_mode": {
    "name": "ipython",
    "version": 3
   },
   "file_extension": ".py",
   "mimetype": "text/x-python",
   "name": "python",
   "nbconvert_exporter": "python",
   "pygments_lexer": "ipython3",
   "version": "3.12.1"
  }
 },
 "nbformat": 4,
 "nbformat_minor": 5
}
